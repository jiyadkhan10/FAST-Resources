{
 "cells": [
  {
   "cell_type": "markdown",
   "id": "b7b9a942",
   "metadata": {},
   "source": [
    "# Web scraping using BeautifulSoup (alongwith requests + etree)"
   ]
  },
  {
   "cell_type": "code",
   "execution_count": null,
   "id": "4c66e7ca",
   "metadata": {},
   "outputs": [],
   "source": [
    "# uncomment to install\n",
    "# !pip install bs4\n",
    "# !pip install selenium\n",
    "# !pip install webdriver-manager"
   ]
  },
  {
   "cell_type": "code",
   "execution_count": null,
   "id": "f5f17132",
   "metadata": {},
   "outputs": [],
   "source": [
    "import requests\n",
    "example = requests.get(\"http://www.fsf.org/\")\n",
    "html = example.text\n",
    "\n",
    "from bs4 import BeautifulSoup\n",
    "soup = BeautifulSoup(html)\n",
    "print(soup.prettify())"
   ]
  },
  {
   "cell_type": "code",
   "execution_count": null,
   "id": "bcc7751c",
   "metadata": {
    "scrolled": true
   },
   "outputs": [],
   "source": [
    "from lxml import etree\n",
    "\n",
    "soup = BeautifulSoup(example.content, \"html.parser\")\n",
    "e = etree.HTML(str(soup))\n",
    "\n",
    "for i in e.xpath('//ul[@class=\"initiatives-list\"]/li/a/div/p'):\n",
    "    print(i.text)"
   ]
  },
  {
   "cell_type": "markdown",
   "id": "410f1eb6",
   "metadata": {},
   "source": [
    "# Web scraping using selenium"
   ]
  },
  {
   "cell_type": "code",
   "execution_count": null,
   "id": "ec8f000a",
   "metadata": {},
   "outputs": [],
   "source": [
    "import time\n",
    "import pandas as pd\n",
    "from selenium import webdriver\n",
    "from selenium.webdriver.chrome.options import Options\n",
    "from selenium.webdriver.common.keys import Keys\n",
    "from webdriver_manager.chrome import ChromeDriverManager\n",
    "from selenium.webdriver.common.by import By\n",
    "from selenium.common.exceptions import NoSuchElementException"
   ]
  },
  {
   "cell_type": "code",
   "execution_count": null,
   "id": "7aadabb5",
   "metadata": {},
   "outputs": [],
   "source": [
    "options = Options()\n",
    "# options.add_argument(\"--headless\")\n",
    "driver = webdriver.Chrome(ChromeDriverManager().install(), options=options)\n",
    "\n",
    "driver.get('https://maps.google.com')\n",
    "\n",
    "search_term = 'NUST Islamabad'\n",
    "driver.find_element_by_xpath('//*[@id=\"searchboxinput\"]').send_keys(search_term + Keys.RETURN)\n",
    "time.sleep(7)"
   ]
  },
  {
   "cell_type": "code",
   "execution_count": null,
   "id": "7184aa8a",
   "metadata": {},
   "outputs": [],
   "source": [
    "data = driver.find_elements_by_xpath('//*[@id=\"pane\"]/div/div[1]/div/div/div[7]/div')\n",
    "\n",
    "name = driver.find_element_by_xpath('//*[@id=\"pane\"]/div/div[1]/div/div/div[2]/div[1]/div[1]/div[1]/h1/span[1]').text\n",
    "rating = driver.find_element_by_xpath('//*[@id=\"pane\"]/div/div[1]/div/div/div[2]/div[1]/div[1]/div[2]/div/div[1]/div[2]/span/span/span').text\n",
    "reviews = driver.find_element_by_xpath('//*[@id=\"pane\"]/div/div[1]/div/div/div[2]/div[1]/div[1]/div[2]/div/div[1]/span[1]/span/span/span[2]/span[1]/button').text\n",
    "category = driver.find_element_by_xpath('//*[@id=\"pane\"]/div/div[1]/div/div/div[2]/div[1]/div[1]/div[2]/div/div[2]/span[1]/span[1]/button').text\n",
    "\n",
    "location = \"\"\n",
    "plus_code = \"\"\n",
    "website = \"\"\n",
    "phone_no = \"\"\n",
    "health_safety = \"\"\n",
    "located_in = \"\"\n",
    "\n",
    "try:\n",
    "    timings = driver.find_element_by_xpath('//*[@id=\"pane\"]/div/div[1]/div/div/div[7]/div[3]/div[2]').get_attribute(\"aria-label\")\n",
    "    if timings == None:                     \n",
    "        timings = driver.find_element_by_xpath('//*[@id=\"pane\"]/div/div[1]/div/div/div[7]/div[2]/div[2]').get_attribute(\"aria-label\")\n",
    "except NoSuchElementException:\n",
    "    try:\n",
    "        timings = driver.find_element_by_xpath('//*[@id=\"pane\"]/div/div[1]/div/div/div[7]/div[2]/div[2]').get_attribute(\"aria-label\")\n",
    "    except:\n",
    "        timings = 'Unavailable'\n",
    "\n",
    "\n",
    "for val in data:\n",
    "    text = val.text\n",
    "    if text == data[0].text:\n",
    "        location = text\n",
    "        continue\n",
    "    if text[4] == '+':\n",
    "        plus_code = text\n",
    "    elif text[0] == '+':\n",
    "        phone_no = text\n",
    "    elif text[:6] == 'Health':\n",
    "        health_safety = text[17:]\n",
    "    elif text[:7] == 'Located':\n",
    "        located_in = text[12:]\n",
    "    else:\n",
    "        continue\n",
    "\n",
    "print(f'Name: {name}\\nRating: {rating}\\nReviews: {reviews}\\nCategoty: {category}\\nLocation: {location}\\nLocated In: {located_in}\\nPhone no: {phone_no}\\nTimings: {timings}\\nHealth safety: {health_safety}\\nPlus code: {plus_code}\\n URL: {driver.current_url}')"
   ]
  },
  {
   "cell_type": "code",
   "execution_count": null,
   "id": "d8728aef",
   "metadata": {},
   "outputs": [],
   "source": [
    "driver.close()"
   ]
  },
  {
   "cell_type": "markdown",
   "id": "9e1a9846",
   "metadata": {},
   "source": [
    "# Scraping Daraz.pk"
   ]
  },
  {
   "cell_type": "code",
   "execution_count": null,
   "id": "205fdba3",
   "metadata": {},
   "outputs": [],
   "source": [
    "ratings = [3, 4]\n",
    "pricing = [(300,500), (1000,1500)]\n",
    "\n",
    "query = input('Enter search term: ').replace(' ', '%20')\n",
    "print(f'Modified search term: {query}')"
   ]
  },
  {
   "cell_type": "code",
   "execution_count": null,
   "id": "f5f1abb3",
   "metadata": {
    "scrolled": true
   },
   "outputs": [],
   "source": [
    "options = Options()\n",
    "# options.add_argument(\"--headless\")\n",
    "driver = webdriver.Chrome(ChromeDriverManager().install(), options=options)\n",
    "\n",
    "names = []\n",
    "mall = []\n",
    "prce = []\n",
    "star = []\n",
    "revw = []\n",
    "for i in pricing:\n",
    "    for j in ratings:\n",
    "        driver.get(f'https://www.daraz.pk/catalog/?from=input&q={query}&price={i[0]}-{i[1]}&rating={j}')\n",
    "\n",
    "        for product in driver.find_elements_by_class_name('c2prKC'):  \n",
    "            name = product.find_element_by_class_name('c16H9d').text\n",
    "            \n",
    "            try:\n",
    "                price = int(product.find_element_by_class_name('c3gUW0').text[3:].replace(',',''))\n",
    "            except ValueError:\n",
    "                price = 0\n",
    "\n",
    "            prce.append(price)\n",
    "            names.append(name)\n",
    "driver.close()\n",
    "            \n",
    "for i in range(len(names)):\n",
    "    print(f'Name: {names[i]}, Price: {prce[i]}')"
   ]
  },
  {
   "cell_type": "code",
   "execution_count": null,
   "id": "8fff3c9d",
   "metadata": {},
   "outputs": [],
   "source": [
    "df = pd.DataFrame({'Name':names, 'Price':prce})\n",
    "df"
   ]
  },
  {
   "cell_type": "code",
   "execution_count": null,
   "id": "99e732b1",
   "metadata": {},
   "outputs": [],
   "source": [
    "df['Price'].min()"
   ]
  },
  {
   "cell_type": "code",
   "execution_count": null,
   "id": "2134862a",
   "metadata": {},
   "outputs": [],
   "source": [
    "df['Price'].max()"
   ]
  },
  {
   "cell_type": "markdown",
   "id": "1aebe268",
   "metadata": {},
   "source": [
    "# Scraping twitter"
   ]
  },
  {
   "cell_type": "code",
   "execution_count": null,
   "id": "5f2fb337",
   "metadata": {},
   "outputs": [],
   "source": [
    "url = 'https://twitter.com/search?q=%23PakvsNz&src=trend_click&vertical=trends'\n",
    "\n",
    "options = Options()\n",
    "#options.add_argument(\"--headless\")\n",
    "driver = webdriver.Chrome(ChromeDriverManager().install(), options=options)\n",
    "\n",
    "driver.get(url)"
   ]
  },
  {
   "cell_type": "code",
   "execution_count": null,
   "id": "94d02350",
   "metadata": {},
   "outputs": [],
   "source": [
    "driver.find_element_by_xpath('/html/body/div/div/div/div[2]/main/div/div/div/div/div/div[2]/div/div/section/div/div/div[4]').text"
   ]
  },
  {
   "cell_type": "code",
   "execution_count": null,
   "id": "21a58c53",
   "metadata": {},
   "outputs": [],
   "source": [
    "driver.find_element_by_xpath('/html/body/div/div/div/div[2]/main/div/div/div/div/div/div[1]/div[1]/div/div/div/div/div[2]/div[2]/div/div/div/form/div[1]/div/div/label/div[2]/div/input').send_keys('Imran khan' + Keys.RETURN)\n",
    "time.sleep(5)\n",
    "driver.find_element_by_xpath('/html/body/div/div/div/div[2]/main/div/div/div/div/div/div[2]/div/div/section/div/div/div[3]/div/div/div/div[2]/div[1]/div[1]/a/div/div[1]/div[1]/span/span').click()"
   ]
  }
 ],
 "metadata": {
  "kernelspec": {
   "display_name": "Python 3 (ipykernel)",
   "language": "python",
   "name": "python3"
  },
  "language_info": {
   "codemirror_mode": {
    "name": "ipython",
    "version": 3
   },
   "file_extension": ".py",
   "mimetype": "text/x-python",
   "name": "python",
   "nbconvert_exporter": "python",
   "pygments_lexer": "ipython3",
   "version": "3.9.7"
  }
 },
 "nbformat": 4,
 "nbformat_minor": 5
}
